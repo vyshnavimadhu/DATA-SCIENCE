{
 "cells": [
  {
   "cell_type": "code",
   "execution_count": 1,
   "id": "ceb4b14a",
   "metadata": {},
   "outputs": [
    {
     "name": "stdout",
     "output_type": "stream",
     "text": [
      "type:<class 'numpy.ndarray'>\n",
      "shape:3\n",
      "1 2 3\n",
      "[5 2 3]\n",
      "\n",
      " shape of b%s: (2, 3)\n",
      "1 2 4\n",
      "All zeros matrix:\n",
      "[[0. 0.]\n",
      " [0. 0.]]\n",
      "\n",
      " All ones matrix: \n",
      "[[1. 1.]]\n",
      "\n",
      " random matrix: \n",
      "[[1. 0.]\n",
      " [0. 1.]]\n",
      "vectored sum example \n",
      "\n",
      "sum :10\n",
      "sum axis=0:[4 6]\n",
      "sum axis=1:[3 7]\n",
      "Dot product: -1724114088 \n",
      "\n",
      "\n",
      " outer product :[[       0        0        0 ...        0        0        0]\n",
      " [       0        1        2 ...     9997     9998     9999]\n",
      " [       0        2        4 ...    19994    19996    19998]\n",
      " ...\n",
      " [       0     9997    19994 ... 99940009 99950006 99960003]\n",
      " [       0     9998    19996 ... 99950006 99960004 99970002]\n",
      " [       0     9999    19998 ... 99960003 99970002 99980001]] \n",
      "\n",
      "\n",
      " Element wise product : [       0        1        4 ... 99940009 99960004 99980001] \n",
      "\n"
     ]
    }
   ],
   "source": [
    "import numpy as np\n",
    "a=np.array([1,2,3])\n",
    "print(\"type:%s\"%type(a))\n",
    "print(\"shape:%s\"%a.shape)\n",
    "print(a[0],a[1],a[2])\n",
    "a[0]=5\n",
    "print(a)\n",
    "b=np.array([[1,2,3],[4,5,6]])\n",
    "print(\"\\n shape of b%s:\",b.shape)\n",
    "print(b[0,0],b[0,1],b[1,0])\n",
    "a=np.zeros((2,2))\n",
    "print(\"All zeros matrix:\\n%s\"%a)\n",
    "b=np.ones((1,2))\n",
    "print(\"\\n All ones matrix: \\n%s\"%b)\n",
    "d=np.eye(2)\n",
    "print(\"\\n random matrix: \\n%s\"%d)\n",
    "print(\"vectored sum example \\n\")\n",
    "x=np.array([[1,2],[3,4]])\n",
    "print(\"sum :%s\"%np.sum(x))\n",
    "print(\"sum axis=0:%s\"%np.sum(x,axis=0))\n",
    "print(\"sum axis=1:%s\"%np.sum(x,axis=1))\n",
    "a=np.arange(10000)\n",
    "b=np.arange(10000)\n",
    "dp=np.dot(a,b)\n",
    "print(\"Dot product: %s \\n\"%dp)\n",
    "op=np.outer(a,b)\n",
    "print(\"\\n outer product :%s \\n\"%op)\n",
    "ep=np.multiply(a,b)\n",
    "print(\"\\n Element wise product : %s \\n\"%ep)"
   ]
  },
  {
   "cell_type": "code",
   "execution_count": null,
   "id": "c6c743e9",
   "metadata": {},
   "outputs": [],
   "source": []
  }
 ],
 "metadata": {
  "kernelspec": {
   "display_name": "Python 3",
   "language": "python",
   "name": "python3"
  },
  "language_info": {
   "codemirror_mode": {
    "name": "ipython",
    "version": 3
   },
   "file_extension": ".py",
   "mimetype": "text/x-python",
   "name": "python",
   "nbconvert_exporter": "python",
   "pygments_lexer": "ipython3",
   "version": "3.8.8"
  }
 },
 "nbformat": 4,
 "nbformat_minor": 5
}
